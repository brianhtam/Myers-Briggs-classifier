{
 "cells": [
  {
   "cell_type": "code",
   "execution_count": 2,
   "metadata": {
    "execution": {
     "iopub.execute_input": "2020-10-13T23:07:58.632704Z",
     "iopub.status.busy": "2020-10-13T23:07:58.632392Z",
     "iopub.status.idle": "2020-10-13T23:07:59.131363Z",
     "shell.execute_reply": "2020-10-13T23:07:59.130722Z",
     "shell.execute_reply.started": "2020-10-13T23:07:58.632654Z"
    }
   },
   "outputs": [],
   "source": [
    "import pandas as pd \n",
    "\n",
    "df = pd.read_csv('mbti_1.csv')"
   ]
  },
  {
   "cell_type": "code",
   "execution_count": 10,
   "metadata": {
    "execution": {
     "iopub.execute_input": "2020-10-13T23:26:01.554200Z",
     "iopub.status.busy": "2020-10-13T23:26:01.553939Z",
     "iopub.status.idle": "2020-10-13T23:26:01.561870Z",
     "shell.execute_reply": "2020-10-13T23:26:01.561117Z",
     "shell.execute_reply.started": "2020-10-13T23:26:01.554175Z"
    }
   },
   "outputs": [
    {
     "data": {
      "text/plain": [
       "\"'Good one  _____   https://www.youtube.com/watch?v=fHiGbolFFGw|||Of course, to which I say I know; that's my blessing and my curse.|||Does being absolutely positive that you and your best friend could be an amazing couple count? If so, than yes.   Or it's more I could be madly in love in case I reconciled my feelings (which at...|||No, I didn't; thank you for a link!|||So-called Ti-Si loop (and it can stem from any current topic/obsession) can be deadly. It's like when you're stuck in your own thoughts, and your mind just wanders in circles. Feels truly terrible. ...|||Have you noticed how peculiar vegetation can be? All you have to do is look down at the grass: dozens of different plant species there.    And now imagine that hundreds of years later (when/if soil...|||The Smiths – Never Had No One Ever|||I often find myself spotting faces on marble tiles/wood.|||This 5 year-old sentence is an incredibly accurate and beautiful description.|||I haven't visited this website in the last 3 years. So whoever reads this (and maybe even remembers me, which I highly doubt): hi.  700049  700057|||When you sit in your garden until 10:30 PM writing songs, and sing them (together with dozens of crickets) while playing your acoustic guitar.|||This is the most INTP-ish thread I've ever seen.|||I wouldn't be able to look at the painting for the entire life if I knew that I picked it over the human being.|||I was drawing a background for my animation on which I'm working right now - it should have been Mars.. But I felt obligated to make Mark Watneyx92s postcard from it :D  If you read the book...|||I started to make comics about turtle Gordon and unicorn Chimes - here you can see two first stories: https://www.tumblr.com/blog/-alexxxandra-|||INTJ Recently I started to post my comics about two friends - turtle Gordon and unicorn Chimes. Before that, I just posted stuff that interested me, but from now on I'll try to include only my works...|||Probably we could work together on a new model - I'm an expert in abrupt explosions of laughter upon various weird stuff. That happens because of peculiar sense of humor - so peculiar that not much...|||Hellooo Nah, you can touch it. Everyone thinks that it's scared or sad, but that's not true - in fact it has an absolutely neutral face. And this kitten actually really likes patting and hugs (only...|||Well.. kind of; As it was already mentioned, sometimes because of Ni it's hard to convey complex stuff which pops up in your head in whimsical compilations of shapes and pictures only with words....|||I think this kitten would be very appropriate here.  376562|||367034|||GOOD NIGHT everyone out there! Even if for someone there is morning right now - nights always supersede mornings.. And people say good night in order to meet next day :)|||Oh, that movie :) It's awesome Thank you! Hope you had good sleep in the air; anyway, I'm wishing you good night for the next night ahead! (hopefully it will be on land)  Good people deserve good...|||358882  358890|||Well, other people who may be wondering about an issue from the name of the topic will find your response helpful anyway :)|||This. Finally someone mentioned that :)|||I still see creatures/faces in a maze of various random patterns. It can be amusing sometimes.  It's a very handy skill when you're bored.|||Oh, I didn't know that.. What a pity.  Why not sacrifice whole supermarket, then? We can decide which Walmart will be the best (I think the biggest one would be great).|||yippy  Here you go  357002  He thinks that the fire is delicious. Should I sacrifice tofu? I don't like to waste food.|||I don't think that the creator of this thread cares what's going on here after 3 years :)|||Heh, I understand you :) With these same given languages)))|||Yessss, Adventure Time :D|||I get angry quite rarely, but when I do, it's safer for surrounding people to go somewhere else. It's impossible for me to hide or suppress anger; the only way to get rid of this feeling is to burst...|||I've never liked it  Anything fake is bad, actually.|||Hugs should be given only to chosen ones. Chosen. There are quite few of them, though.|||349890|||Yup, you're doing it right :)|||http://-alexxxandra-.tumblr.com/|||256818|||Of course it's not very comfortable.  But. Human race survived thankfully women's ability to give birth to other human beings. It worked for thousands of years. Why change it? Besides, there are...|||That happens. And it occurs because most often people use results of extremely precise and elaborate online tests as a basis of determining one's type.      Both visual and language arts (more...|||246386|||I study graphic design now, which I really enjoy. What is interesting about this field, is that the ability to generate ideas and solve problems is much more important than possession of a specific...|||Alexxxandra97 - DeviantArt|||236994|||http://www.youtube.com/watch?v=2Nkcn8m9M0M|||I am always ready to discipline (to intimidate, to be precise) my sibling's offender.|||World domination? Shooting people in the head? Why?  Oh, right, INTJs always must be characterised only with these words.     I want to show so badly my reaction to this: 221226|||218106|||ISTP?   http://www.youtube.com/watch?v=7ghqoYxmaUE'\""
      ]
     },
     "execution_count": 10,
     "metadata": {},
     "output_type": "execute_result"
    }
   ],
   "source": [
    "df.posts[2]"
   ]
  },
  {
   "cell_type": "markdown",
   "metadata": {},
   "source": []
  }
 ],
 "metadata": {
  "kernelspec": {
   "display_name": "Python [conda env:metis] *",
   "language": "python",
   "name": "conda-env-metis-py"
  },
  "language_info": {
   "codemirror_mode": {
    "name": "ipython",
    "version": 3
   },
   "file_extension": ".py",
   "mimetype": "text/x-python",
   "name": "python",
   "nbconvert_exporter": "python",
   "pygments_lexer": "ipython3",
   "version": "3.8.5"
  }
 },
 "nbformat": 4,
 "nbformat_minor": 4
}
